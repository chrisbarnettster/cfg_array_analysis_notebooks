{
 "cells": [
  {
   "cell_type": "markdown",
   "metadata": {},
   "source": [
    "# Visualise Highbinders "
   ]
  },
  {
   "cell_type": "code",
   "execution_count": null,
   "metadata": {
    "collapsed": false
   },
   "outputs": [],
   "source": [
    "%reset -f\n"
   ]
  },
  {
   "cell_type": "markdown",
   "metadata": {},
   "source": [
    "## import all required dependencies"
   ]
  },
  {
   "cell_type": "code",
   "execution_count": null,
   "metadata": {
    "collapsed": false
   },
   "outputs": [],
   "source": [
    "# standard imports\n",
    "import urllib2\n",
    "import os\n",
    "import sys\n",
    "import json\n",
    "import StringIO\n",
    "import pickle\n",
    "\n",
    "# dataframe and numerical\n",
    "import pandas as pd\n",
    "import numpy as np\n",
    "\n",
    "# plotting\n",
    "import matplotlib.pyplot as plt\n",
    "%matplotlib inline\n",
    "# plotting params\n",
    "from matplotlib import rcParams\n",
    "rcParams[\"figure.figsize\"] = 10, 8\n",
    "\n",
    "#scipy\n",
    "from scipy import stats\n",
    "from scipy.special import erf\n",
    "from scipy import sqrt\n",
    "\n",
    "# glypy\n",
    "import glypy\n",
    "from glypy.plot import plot\n",
    "from glypy.io import glycoct\n",
    "\n",
    "# other modules\n",
    "sys.path.append('../scripts/')\n",
    "import post_glycan_convert as pgc\n"
   ]
  },
  {
   "cell_type": "code",
   "execution_count": null,
   "metadata": {
    "collapsed": true
   },
   "outputs": [],
   "source": [
    "## variables for this project\n",
    "\n",
    "samples_in=\"../data/galectin-3/galectin-3_5.0_human.json\"\n",
    "results_dir = \"../results/galectin-3/\"\n",
    "dataframe_out=results_dir+\"dataframes_galectin.pkl\"\n",
    "dataframefile=dataframe_out\n",
    "\n"
   ]
  },
  {
   "cell_type": "code",
   "execution_count": null,
   "metadata": {
    "collapsed": false
   },
   "outputs": [],
   "source": [
    "# Check whether or not the dataframes exist\n",
    "\n",
    "subdir=\"./\"\n",
    "dataframefile=dataframe_out\n",
    "\n",
    "if not os.path.isfile(dataframefile):\n",
    "    print \"calling the notebook that loads the data\"\n",
    "    %run download_cfg_for_galectin.ipynb\n",
    "with open(os.path.join(subdir, dataframefile)) as f:\n",
    "    dataframes = pickle.load(f)\n",
    "    \n",
    "    \n",
    "dataframes[0][\"sample\"]\n",
    "frame=dataframes[0][\"dataframe\"]\n",
    "frame.head()"
   ]
  },
  {
   "cell_type": "code",
   "execution_count": null,
   "metadata": {
    "collapsed": false
   },
   "outputs": [],
   "source": [
    "# create a data frame with the glycan and the spacer as separate columns\n",
    "\n",
    "Structure=\"Structure on Masterlist\"\n",
    "\n",
    "df=pd.concat([frame[\"Chart Number\"], frame[Structure]], axis=1)\n",
    "              \n",
    "df.head()\n",
    "#frame[\"Structure\"]\n",
    "df[Structure].str.extract('(.*-)')\n",
    "df[\"Glycan\"]=df[Structure].str.extract('(.*-)').str.strip('-')\n",
    "\n",
    "#df['Structure'].str.extract('(-Sp.+?$)')\n",
    "df[\"Spacer\"]=df[Structure].str.split('.*-').str[1]\n",
    "df"
   ]
  },
  {
   "cell_type": "code",
   "execution_count": null,
   "metadata": {
    "collapsed": true
   },
   "outputs": [],
   "source": [
    "# create a function that plots using glypy\n",
    "\n",
    "\n",
    "def plotter(func):\n",
    "    \"\"\"\n",
    "    A decorator that plots the function .\n",
    "    (it actually just prints it, but it could be logging!)\n",
    "    \"\"\"\n",
    "    def wrapper(*args, **kwargs):\n",
    "        res = func(*args, **kwargs)\n",
    "        #print func.__name__, args, kwargs\n",
    "        plot(res,label=True)\n",
    "        return res\n",
    "    return wrapper\n",
    "\n",
    "@plotter\n",
    "def get_gly_iupac(iupacstring):\n",
    "    kchandle = StringIO.StringIO(iupacstring)\n",
    "    kcf=pgc.mechanise_glycan_convert(kchandle, \"Kcf\", \"text\")\n",
    "    kchandle2 = StringIO.StringIO(kcf)\n",
    "    gct=pgc.mechanise_glycan_convert(kchandle2, \"Glycoct\", \"text\")\n",
    "    return glycoct.loads(gct)"
   ]
  },
  {
   "cell_type": "code",
   "execution_count": null,
   "metadata": {
    "collapsed": true
   },
   "outputs": [],
   "source": [
    "high_binders_from_paper=[372,\n",
    " 543,\n",
    " 545,\n",
    " 547,\n",
    " 549,\n",
    " 550,\n",
    " 551,\n",
    " 565,\n",
    " 566,\n",
    " 569,\n",
    " 576,\n",
    " 577,\n",
    " 578,\n",
    " 579,\n",
    " 580,\n",
    " 581,\n",
    " 582,\n",
    " 583,\n",
    " 584,\n",
    " 585,\n",
    " 586,\n",
    " 587,\n",
    " 588,\n",
    " 589]"
   ]
  },
  {
   "cell_type": "code",
   "execution_count": null,
   "metadata": {
    "collapsed": true
   },
   "outputs": [],
   "source": [
    "# show all the outputs\n",
    "from IPython.core.interactiveshell import InteractiveShell\n",
    "InteractiveShell.ast_node_interactivity = \"all\""
   ]
  },
  {
   "cell_type": "code",
   "execution_count": null,
   "metadata": {
    "collapsed": false
   },
   "outputs": [],
   "source": [
    "# show high binder glycan rows\n",
    "\n",
    "pd.set_option('display.max_columns',1000)\n",
    "pd.set_option('display.max_colwidth', 1000)\n",
    "\n",
    "\n",
    "for i in high_binders_from_paper:\n",
    "    #df[\"Glycan\"][i].head()\n",
    "    df[df[\"Chart Number\"]==i].head()"
   ]
  },
  {
   "cell_type": "code",
   "execution_count": null,
   "metadata": {
    "collapsed": false
   },
   "outputs": [],
   "source": [
    "highbinders_df = df[df[\"Chart Number\"].isin(high_binders_from_paper)]"
   ]
  },
  {
   "cell_type": "code",
   "execution_count": null,
   "metadata": {
    "collapsed": false
   },
   "outputs": [],
   "source": [
    "highbinders_df"
   ]
  },
  {
   "cell_type": "code",
   "execution_count": null,
   "metadata": {
    "collapsed": false
   },
   "outputs": [],
   "source": [
    "\n",
    "df[df[\"Chart Number\"]==372]\n",
    "%matplotlib inline\n",
    "get_gly_iupac(df[\"Glycan\"][372])"
   ]
  },
  {
   "cell_type": "code",
   "execution_count": null,
   "metadata": {
    "collapsed": true
   },
   "outputs": [],
   "source": []
  },
  {
   "cell_type": "code",
   "execution_count": null,
   "metadata": {
    "collapsed": false
   },
   "outputs": [],
   "source": [
    "print high_binders_from_paper[0:4]"
   ]
  },
  {
   "cell_type": "code",
   "execution_count": null,
   "metadata": {
    "collapsed": false
   },
   "outputs": [],
   "source": [
    "# plot glycan images\n",
    "for i in high_binders_from_paper[0:4]:\n",
    "    try:\n",
    "        get_gly_iupac(df[\"Glycan\"][i])\n",
    "    except:\n",
    "        pass"
   ]
  },
  {
   "cell_type": "code",
   "execution_count": null,
   "metadata": {
    "collapsed": false
   },
   "outputs": [],
   "source": []
  },
  {
   "cell_type": "code",
   "execution_count": null,
   "metadata": {
    "collapsed": true
   },
   "outputs": [],
   "source": []
  }
 ],
 "metadata": {
  "kernelspec": {
   "display_name": "Python 2",
   "language": "python",
   "name": "python2"
  },
  "language_info": {
   "codemirror_mode": {
    "name": "ipython",
    "version": 2
   },
   "file_extension": ".py",
   "mimetype": "text/x-python",
   "name": "python",
   "nbconvert_exporter": "python",
   "pygments_lexer": "ipython2",
   "version": "2.7.11"
  }
 },
 "nbformat": 4,
 "nbformat_minor": 0
}
