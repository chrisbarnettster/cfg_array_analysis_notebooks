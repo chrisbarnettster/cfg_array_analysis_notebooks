{
 "cells": [
  {
   "cell_type": "code",
   "execution_count": null,
   "metadata": {
    "collapsed": true
   },
   "outputs": [],
   "source": [
    "%reset -f \n",
    "dataframefile = \"../sample_data/dataframes_sample.pkl\"\n",
    "samplename = \"twomg\"\n",
    "highbinding_glycans = {75,\n",
    "  163,\n",
    "  185,\n",
    "  336,\n",
    "  337,\n",
    "  372,\n",
    "  543,\n",
    "  545,\n",
    "  547,\n",
    "  549,\n",
    "  550,\n",
    "  551,\n",
    "  552,\n",
    "  565,\n",
    "  566,\n",
    "  569,\n",
    "  572,\n",
    "  576,\n",
    "  577,\n",
    "  578,\n",
    "  579,\n",
    "  580,\n",
    "  581,\n",
    "  582,\n",
    "  583,\n",
    "  584,\n",
    "  585,\n",
    "  586,\n",
    "  587,\n",
    "  588,\n",
    "  589}\n",
    "highbinding_glycans = {543,\n",
    " 547,\n",
    " 549,\n",
    " 550,\n",
    " 551,\n",
    " 565,\n",
    " 566,\n",
    " 569,\n",
    " 577,\n",
    " 578,\n",
    " 579,\n",
    " 580,\n",
    " 581,\n",
    " 582,\n",
    " 588,\n",
    " 589}"
   ]
  },
  {
   "cell_type": "markdown",
   "metadata": {},
   "source": [
    "### Notebook arguments\n",
    "\n",
    "- **dataframefile** (*string*): which pickled data file to load\n",
    "\n",
    "- **samplename** (*string*): name of particular experiment\n",
    "\n",
    "- **highbinding_glycans** (*list or set *): list of integers which refer to the id of glycans as found in the dataframe file"
   ]
  },
  {
   "cell_type": "markdown",
   "metadata": {},
   "source": [
    "# MCAW analysis\n",
    "\n",
    "\n",
    "Pass in glycan ids and will look up the glycan IUPAC from a dataframe, and then get the KCF's and pass these to the RINGS MCAW tool. \n",
    "\n",
    "You can either run this notebook directly, or run it through the [meta notebook](meta_run_mcaw_analysis.ipynb) for batch processing.\n"
   ]
  },
  {
   "cell_type": "code",
   "execution_count": null,
   "metadata": {
    "collapsed": true
   },
   "outputs": [],
   "source": [
    "## import all required dependencies"
   ]
  },
  {
   "cell_type": "code",
   "execution_count": null,
   "metadata": {
    "collapsed": true
   },
   "outputs": [],
   "source": [
    "# standard imports\n",
    "import urllib\n",
    "import urllib2\n",
    "import os\n",
    "import sys\n",
    "import json\n",
    "import StringIO\n",
    "import pickle\n",
    "\n",
    "# dataframe and numerical\n",
    "import pandas as pd\n",
    "import numpy as np\n",
    "\n",
    "# plotting\n",
    "import matplotlib.pyplot as plt\n",
    "%matplotlib inline\n",
    "# plotting params\n",
    "from matplotlib import rcParams\n",
    "rcParams[\"figure.figsize\"] = 10, 8\n",
    "\n",
    "#scipy\n",
    "from scipy import stats\n",
    "from scipy.special import erf\n",
    "from scipy import sqrt\n",
    "\n",
    "# glypy\n",
    "import glypy\n",
    "from glypy.plot import plot\n",
    "from glypy.io import glycoct\n",
    "\n",
    "# other modules\n",
    "sys.path.append('../scripts/')\n",
    "import post_glycan_convert as pgc\n",
    "import post_kcf_to_image as pki\n",
    "import post_mcaw as pm\n",
    "\n",
    "# iPython\n",
    "from IPython.display import Image,display, HTML"
   ]
  },
  {
   "cell_type": "code",
   "execution_count": null,
   "metadata": {
    "collapsed": false
   },
   "outputs": [],
   "source": [
    "# load dataframe\n",
    "subdir=\"./\"\n",
    "\n",
    "if not os.path.isfile(dataframefile):\n",
    "    exit(1)\n",
    "with open(os.path.join(subdir, dataframefile)) as f:\n",
    "    dataframes = pickle.load(f)\n",
    "    \n",
    "    \n",
    "dataframes[0][\"sample\"]\n",
    "frame=dataframes[0][\"dataframe\"]\n",
    "frame.head()"
   ]
  },
  {
   "cell_type": "code",
   "execution_count": null,
   "metadata": {
    "collapsed": false
   },
   "outputs": [],
   "source": [
    "# create a data frame with the glycan and the spacer as separate columns\n",
    "\n",
    "Structure=\"Structure on Masterlist\"\n",
    "\n",
    "df=pd.concat([frame[\"Chart Number\"], frame[Structure]], axis=1)\n",
    "              \n",
    "df.head()\n",
    "#frame[\"Structure\"]\n",
    "df[Structure].str.extract('(.*-)')\n",
    "df[\"Glycan\"]=df[Structure].str.extract('(.*-)').str.strip('-')\n",
    "\n",
    "#df['Structure'].str.extract('(-Sp.+?$)')\n",
    "df[\"Spacer\"]=df[Structure].str.split('.*-').str[1]\n",
    "df"
   ]
  },
  {
   "cell_type": "code",
   "execution_count": null,
   "metadata": {
    "collapsed": true
   },
   "outputs": [],
   "source": [
    "# create a function that plots using glypy\n",
    "\n",
    "def plotter(func):\n",
    "    \"\"\"\n",
    "    A decorator that plots the function .\n",
    "    (it actually just prints it, but it could be logging!)\n",
    "    \"\"\"\n",
    "    def wrapper(*args, **kwargs):\n",
    "        res = func(*args, **kwargs)\n",
    "        #print func.__name__, args, kwargs\n",
    "        #plot(res,label=True)\n",
    "        return res\n",
    "    return wrapper\n",
    "\n",
    "@plotter\n",
    "def get_gly_iupac(iupacstring):\n",
    "    try:\n",
    "        kchandle = StringIO.StringIO(iupacstring)\n",
    "        kcf=pgc.mechanise_glycan_convert(kchandle, \"Kcf\", \"text\")\n",
    "        kchandle2 = StringIO.StringIO(kcf)\n",
    "        gct=pgc.mechanise_glycan_convert(kchandle2, \"Glycoct\", \"text\")\n",
    "        return glycoct.loads(gct)\n",
    "    except:\n",
    "        return iupacstring"
   ]
  },
  {
   "cell_type": "code",
   "execution_count": null,
   "metadata": {
    "collapsed": false
   },
   "outputs": [],
   "source": [
    "# create a dataframe for the highbinders\n",
    "highbinders_df = df[df[\"Chart Number\"].isin(highbinding_glycans)]\n"
   ]
  },
  {
   "cell_type": "code",
   "execution_count": null,
   "metadata": {
    "collapsed": false
   },
   "outputs": [],
   "source": [
    "# Not always able to get iupac-> kcf-> glycoct\n",
    "# why not just pull imaged from kcf-> image\n",
    "\n",
    "def get_gly_image(iupacstring):\n",
    "    try:\n",
    "        kchandle = StringIO.StringIO(iupacstring)\n",
    "        kcf=pgc.mechanise_glycan_convert(kchandle, \"Kcf\", \"text\")\n",
    "        kchandle2 = StringIO.StringIO(kcf)\n",
    "        gct=pki.post_rings_kcf_to_image(kchandle2)\n",
    "        return pki.get_first_image_from_html(gct).encode(\"base64\")\n",
    "    except:\n",
    "        return iupacstring\n",
    "\n",
    "aimg= get_gly_image(df[\"Glycan\"][372])\n",
    "\n",
    "Image(aimg) "
   ]
  },
  {
   "cell_type": "code",
   "execution_count": null,
   "metadata": {
    "collapsed": false
   },
   "outputs": [],
   "source": [
    "\n",
    "highbinders_df[\"Image\"]=highbinders_df[\"Glycan\"]\n",
    "# create a function called to http://chrisalbon.com/python/pandas_apply_operations_to_dataframes.html\n",
    "# maps apply to the showl frame.... \n",
    "def map_image(x):\n",
    "    # that, if x is a string,\n",
    "    return '<html><img src=\"data:image/png;base64,'+urllib.quote(get_gly_image(x).rstrip('\\n'))+'\"/></html>'\n",
    "    #return '<html><img src=\"data:image/png;base64,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\"/></html>'\n",
    "\n",
    "\n",
    "newslice = highbinders_df['Image'].map(map_image) # http://chrisalbon.com/python/pandas_apply_operations_to_dataframes.html"
   ]
  },
  {
   "cell_type": "code",
   "execution_count": null,
   "metadata": {
    "collapsed": false
   },
   "outputs": [],
   "source": [
    "pd.set_option('display.max_colwidth', 10000)\n",
    "\n",
    "newslice\n",
    "HTML(newslice.to_frame().to_html(escape=False))"
   ]
  },
  {
   "cell_type": "code",
   "execution_count": null,
   "metadata": {
    "collapsed": false
   },
   "outputs": [],
   "source": [
    "def get_gly_kcf(iupacstring):\n",
    "    try:\n",
    "        kchandle = StringIO.StringIO(iupacstring)\n",
    "        kcf=pgc.mechanise_glycan_convert(kchandle, \"Kcf\", \"text\")\n",
    "        return kcf\n",
    "    except:\n",
    "        return iupacstring\n",
    "    \n",
    "highbinders_df[\"KCF\"]=highbinders_df[\"Glycan\"]\n",
    "# create a function called to http://chrisalbon.com/python/pandas_apply_operations_to_dataframes.html\n",
    "# maps apply to the showl frame.... \n",
    "def map_kcf(x):\n",
    "    # that, if x is a string,\n",
    "    return get_gly_kcf(x)\n",
    "    \n",
    "\n",
    "\n",
    "newslice2 = highbinders_df['KCF'].map(map_kcf) # http://chrisalbon.com/python/pandas_apply_operations_to_dataframes.html"
   ]
  },
  {
   "cell_type": "code",
   "execution_count": null,
   "metadata": {
    "collapsed": false
   },
   "outputs": [],
   "source": [
    "kcfdict=newslice2.to_dict()\n",
    "kcfdict.keys()\n",
    "kcflist=[]\n",
    "for key in kcfdict:\n",
    "    kcflist.append(kcfdict[key])\n"
   ]
  },
  {
   "cell_type": "code",
   "execution_count": null,
   "metadata": {
    "collapsed": false
   },
   "outputs": [],
   "source": [
    "#for i in kcflist:\n",
    "kcflist2=[]\n",
    "for i in kcflist:\n",
    "     kcflist2.append(i.strip('\\n'))\n",
    "\n",
    "    \n",
    "    "
   ]
  },
  {
   "cell_type": "code",
   "execution_count": null,
   "metadata": {
    "collapsed": false
   },
   "outputs": [],
   "source": [
    "print \"\\n\".join(kcflist2) # can paste this into http://rings.t.soka.ac.jp/cgi-bin/tools/MCAW/mcaw_index.pl"
   ]
  },
  {
   "cell_type": "code",
   "execution_count": null,
   "metadata": {
    "collapsed": false
   },
   "outputs": [],
   "source": [
    "print \"\".join(kcflist)\n",
    "\n"
   ]
  },
  {
   "cell_type": "code",
   "execution_count": null,
   "metadata": {
    "collapsed": false
   },
   "outputs": [],
   "source": [
    "\n",
    "kcfhandle = StringIO.StringIO(\"\".join(kcflist))\n",
    "mcaw_html = pm.post_rings_mcaw(kcfhandle)\n",
    "mcaw_img = pm.get_image_from_html(mcaw_html)\n",
    "                              \n",
    "\n",
    "#Image(mcaw_img) \n"
   ]
  },
  {
   "cell_type": "code",
   "execution_count": null,
   "metadata": {
    "collapsed": false
   },
   "outputs": [],
   "source": [
    "#help(Image)\n",
    "Image(mcaw_img,width=3000) # double click on image to resize"
   ]
  },
  {
   "cell_type": "code",
   "execution_count": null,
   "metadata": {
    "collapsed": false
   },
   "outputs": [],
   "source": [
    "        #return iupacstring"
   ]
  },
  {
   "cell_type": "code",
   "execution_count": null,
   "metadata": {
    "collapsed": false
   },
   "outputs": [],
   "source": [
    "\n",
    "\n",
    "# Also send all the kcfs and return pics (just in case table above breaks)\n",
    "def get_gly_image_html(kcfstring):\n",
    "    try:\n",
    "        kchandle2 = StringIO.StringIO(kcfstring)\n",
    "        gct=pki.post_rings_kcf_to_image(kchandle2)\n",
    "        return gct\n",
    "    except Exception as e:\n",
    "        return e\n",
    "        #return iupacstring\n",
    "\n",
    "kcfall = get_gly_image_html(\"\".join(kcflist))"
   ]
  },
  {
   "cell_type": "code",
   "execution_count": null,
   "metadata": {
    "collapsed": true
   },
   "outputs": [],
   "source": [
    "HTML(kcfall)"
   ]
  }
 ],
 "metadata": {
  "kernelspec": {
   "display_name": "Python 2",
   "language": "python",
   "name": "python2"
  },
  "language_info": {
   "codemirror_mode": {
    "name": "ipython",
    "version": 2
   },
   "file_extension": ".py",
   "mimetype": "text/x-python",
   "name": "python",
   "nbconvert_exporter": "python",
   "pygments_lexer": "ipython2",
   "version": "2.7.11"
  }
 },
 "nbformat": 4,
 "nbformat_minor": 0
}
