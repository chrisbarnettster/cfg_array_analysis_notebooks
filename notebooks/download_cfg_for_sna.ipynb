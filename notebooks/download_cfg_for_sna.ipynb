{
 "cells": [
  {
   "cell_type": "markdown",
   "metadata": {
    "collapsed": true
   },
   "source": [
    "# Download SNA data \n",
    "as per http://www.ncbi.nlm.nih.gov/pmc/articles/PMC3459425/#SD2\n",
    "\n",
    "Data was chosen using data surveyor (git@bitbucket.org:rxncor/cfg-data-chart.git).\n",
    "See the [saved search page](../data/data_surveyor_sna.pdf) and saved [SNA json data](../data/sna/SNA_4.0_plant.json)\n"
   ]
  },
  {
   "cell_type": "markdown",
   "metadata": {},
   "source": [
    "## House keeping tasks\n"
   ]
  },
  {
   "cell_type": "markdown",
   "metadata": {},
   "source": [
    "## import all required dependencies"
   ]
  },
  {
   "cell_type": "code",
   "execution_count": null,
   "metadata": {
    "collapsed": true,
    "scrolled": true
   },
   "outputs": [],
   "source": [
    "# standard imports\n",
    "import urllib2\n",
    "import os\n",
    "import json\n",
    "import StringIO\n",
    "import pickle\n",
    "\n",
    "# dataframe and numerical\n",
    "import pandas as pd\n",
    "import numpy as np\n",
    "\n",
    "# plotting\n",
    "import matplotlib.pyplot as plt\n",
    "%matplotlib inline\n",
    "\n",
    "#scipy\n",
    "from scipy import stats\n",
    "from scipy.special import erf\n",
    "from scipy import sqrt\n",
    "\n"
   ]
  },
  {
   "cell_type": "code",
   "execution_count": null,
   "metadata": {
    "collapsed": false,
    "scrolled": true
   },
   "outputs": [],
   "source": [
    "from IPython.display import HTML\n",
    "def addToggle():\n",
    "    return '''<script>\n",
    "code_show=true; \n",
    "function code_toggle() {\n",
    " if (code_show){\n",
    " $('div.input').hide();\n",
    " } else {\n",
    " $('div.input').show();\n",
    " }\n",
    " code_show = !code_show\n",
    "} \n",
    "$( document ).ready(code_toggle);\n",
    "</script>\n",
    "The raw code for this IPython notebook is by default hidden for easier reading.\n",
    "To toggle on/off the raw code, click <a href=\"javascript:code_toggle()\">here</a>.'''\n",
    "HTML(addToggle())\n"
   ]
  },
  {
   "cell_type": "markdown",
   "metadata": {},
   "source": [
    "## load dataset and download all data\n",
    "\n",
    "## write xls to results directory"
   ]
  },
  {
   "cell_type": "code",
   "execution_count": null,
   "metadata": {
    "collapsed": false,
    "scrolled": false
   },
   "outputs": [],
   "source": [
    "# load the sample data from the json file\n",
    "samples_in=\"../data/sna/SNA_4.0_plant.json\"\n",
    "results_dir = \"../results/sna/\"\n",
    "dataframe_out=results_dir+\"dataframes_sna.pkl\"\n",
    "subdir=\"./\"\n",
    "if not os.path.isfile(samples_in):\n",
    "    print \"You need to include a samples file, generate one using git@bitbucket.org:rxncor/cfg-data-chart.git\"\n",
    "    exit(1)\n",
    "# get json array metadata from previous search of CFG\n",
    "with open(os.path.join(subdir, samples_in)) as f:\n",
    "    datajson = json.load(f)\n",
    "datajson \n"
   ]
  },
  {
   "cell_type": "code",
   "execution_count": null,
   "metadata": {
    "collapsed": false,
    "scrolled": true
   },
   "outputs": [],
   "source": [
    "# list which metadata are available\n",
    "\n",
    "metadata_tags= datajson[0].keys()\n",
    "metadata_tags\n",
    "\n",
    "# HINT: never print datajson[i] once the excel files are loaded. rather use datajson[i].keys() and only print the necessary"
   ]
  },
  {
   "cell_type": "code",
   "execution_count": null,
   "metadata": {
    "collapsed": true,
    "scrolled": true
   },
   "outputs": [],
   "source": [
    "# download xls\n",
    "\n",
    "for sample in datajson:\n",
    "    try:\n",
    "        sample[\"xlsdata\"]= urllib2.urlopen(sample[\"rawdatalink\"][0]).read()\n",
    "    except Exception as e:\n",
    "        sample[\"xlsdata\"]=None\n",
    "        print e"
   ]
  },
  {
   "cell_type": "code",
   "execution_count": null,
   "metadata": {
    "collapsed": true,
    "scrolled": true
   },
   "outputs": [],
   "source": [
    "# check xlsdata exists for samples, did the download go wrong somehow or was the data unavailable.\n",
    "tmp_check_xls=[]\n",
    "for sample in datajson:\n",
    "    if sample[\"xlsdata\"] is not None:\n",
    "        tmp_check_xls.append(\"OK\")\n",
    "if len(tmp_check_xls)!=len(datajson):\n",
    "    print \"Missing .xls - check what went wrong\""
   ]
  },
  {
   "cell_type": "code",
   "execution_count": null,
   "metadata": {
    "collapsed": false,
    "scrolled": true
   },
   "outputs": [],
   "source": [
    "# write the sample xls data to results directory\n",
    "\n",
    "if os.path.isdir(results_dir):\n",
    "    pass\n",
    "else:\n",
    "    os.mkdir(results_dir)\n",
    "\n",
    "\n",
    "for sample in datajson:\n",
    "    # prettify the outputname\n",
    "    excel_out_name = sample[\"sample\"].encode('utf-8')\n",
    "    excel_out_name_ = excel_out_name.replace('\\xc2\\xb5', \"micro\")\n",
    "    excel_out_name_ = excel_out_name_.replace('/', \" per \")\n",
    "    excel_out_name_ = excel_out_name_.replace(' ', \"_\")\n",
    "    excel_out_name_ = excel_out_name_.replace(',', \"\")\n",
    "    write_excel = open(results_dir+excel_out_name_+\".xls\",'wb')\n",
    "    # write the excel file\n",
    "    write_excel.write(datajson[0][\"xlsdata\"])"
   ]
  },
  {
   "cell_type": "code",
   "execution_count": null,
   "metadata": {
    "collapsed": false,
    "scrolled": true
   },
   "outputs": [],
   "source": [
    "# confirm the array version \n",
    "\n",
    "total_samples=len(datajson)\n",
    "\n",
    "# check the array versions \n",
    "array_version_stats ={}# knew those from the CFG anyway but do it again\n",
    "for sample in datajson:\n",
    "    try:\n",
    "        array_version_stats[sample[\"experimentarrayversion\"]]+=1\n",
    "    except:\n",
    "        array_version_stats[sample[\"experimentarrayversion\"]]=1\n",
    "key_max, value_max = max(array_version_stats.iteritems(), key=lambda x:x[1])\n",
    "print key_max, value_max\n"
   ]
  },
  {
   "cell_type": "markdown",
   "metadata": {},
   "source": [
    "## load xls into dataframe and add dataframe to sample list \n",
    "\n",
    "## write out as a pickle\n"
   ]
  },
  {
   "cell_type": "code",
   "execution_count": null,
   "metadata": {
    "collapsed": false,
    "scrolled": true
   },
   "outputs": [],
   "source": [
    "# load xls into dataframe and add to sample dict\n",
    "\n",
    "## Set parameters for this analysis\n",
    "skiprows=2\n",
    "columnlist=[0,1,2,3,4,5]\n",
    "sheetname='CoreH PA Results'\n",
    "\n",
    "\n",
    "for sample in datajson:\n",
    "    handle = StringIO.StringIO(sample[\"xlsdata\"])\n",
    "    xlsx = pd.ExcelFile(handle)\n",
    "    sn=xlsx.sheet_names\n",
    "    #if len(sn)>1:\n",
    "    #    for name in sn:\n",
    "    #        if 'Cancer' in name or 'Sample' in name or 'Serum' in name:\n",
    "    #            sheetname=name\n",
    "    #else:\n",
    "    #    sheetname=sn[0]\n",
    "    print \"Available sheets:\", sn\n",
    "    sample[\"dataframe\"] = pd.read_excel(xlsx, sheetname, skiprows=skiprows, parse_cols=columnlist)"
   ]
  },
  {
   "cell_type": "code",
   "execution_count": null,
   "metadata": {
    "collapsed": true,
    "scrolled": true
   },
   "outputs": [],
   "source": [
    "## pickle as json breaks on excel and sometimes dataframes\n",
    "import pickle\n",
    "pck=open(dataframe_out,'w')\n",
    "pickle.dump(datajson,pck)\n",
    "pck.close()"
   ]
  }
 ],
 "metadata": {
  "kernelspec": {
   "display_name": "Python 2",
   "language": "python",
   "name": "python2"
  },
  "language_info": {
   "codemirror_mode": {
    "name": "ipython",
    "version": 2
   },
   "file_extension": ".py",
   "mimetype": "text/x-python",
   "name": "python",
   "nbconvert_exporter": "python",
   "pygments_lexer": "ipython2",
   "version": "2.7.11"
  }
 },
 "nbformat": 4,
 "nbformat_minor": 0
}
