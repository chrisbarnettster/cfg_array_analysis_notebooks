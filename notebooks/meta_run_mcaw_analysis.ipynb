{
 "cells": [
  {
   "cell_type": "markdown",
   "metadata": {
    "collapsed": true
   },
   "source": [
    "# run multiple mcaw analyses\n",
    "\n",
    "Based on the useful notebook runner tool by https://github.com/tritemio/nbrun (requires nbrun.py)\n"
   ]
  },
  {
   "cell_type": "code",
   "execution_count": null,
   "metadata": {
    "collapsed": true
   },
   "outputs": [],
   "source": [
    "%reset -f"
   ]
  },
  {
   "cell_type": "code",
   "execution_count": null,
   "metadata": {
    "collapsed": true
   },
   "outputs": [],
   "source": [
    "## import all required dependencies\n",
    "from nbrun import run_notebook"
   ]
  },
  {
   "cell_type": "code",
   "execution_count": null,
   "metadata": {
    "collapsed": false
   },
   "outputs": [],
   "source": [
    "## hardcoded results from http://localhost:8889/notebooks/notebooks/zscore_highbinders_for_galectin.ipynb#\n",
    "# filtered by p-value then rank\n",
    "results = {'average': {547,\n",
    "  549,\n",
    "  550,\n",
    "  551,\n",
    "  565,\n",
    "  566,\n",
    "  569,\n",
    "  577,\n",
    "  578,\n",
    "  579,\n",
    "  580,\n",
    "  581,\n",
    "  582,\n",
    "  587,\n",
    "  588,\n",
    "  589},\n",
    " 'fivemg_filter50': {543,\n",
    "  547,\n",
    "  549,\n",
    "  550,\n",
    "  551,\n",
    "  565,\n",
    "  566,\n",
    "  569,\n",
    "  577,\n",
    "  578,\n",
    "  579,\n",
    "  580,\n",
    "  581,\n",
    "  582,\n",
    "  585,\n",
    "  586,\n",
    "  587,\n",
    "  588,\n",
    "  589},\n",
    " 'fivemg_filter75': {543,\n",
    "  547,\n",
    "  549,\n",
    "  550,\n",
    "  551,\n",
    "  565,\n",
    "  566,\n",
    "  569,\n",
    "  577,\n",
    "  578,\n",
    "  579,\n",
    "  580,\n",
    "  581,\n",
    "  582,\n",
    "  585,\n",
    "  586,\n",
    "  587,\n",
    "  588,\n",
    "  589},\n",
    " 'fivemg_topten_nofilter': {550, 551, 565, 566, 577, 579, 582, 585, 588, 589},\n",
    " 'tenmg_filter50': {75,\n",
    "  372,\n",
    "  543,\n",
    "  545,\n",
    "  547,\n",
    "  549,\n",
    "  550,\n",
    "  551,\n",
    "  552,\n",
    "  565,\n",
    "  566,\n",
    "  569,\n",
    "  572,\n",
    "  576,\n",
    "  577,\n",
    "  578,\n",
    "  579,\n",
    "  580,\n",
    "  581,\n",
    "  582,\n",
    "  583,\n",
    "  585,\n",
    "  586,\n",
    "  587,\n",
    "  588,\n",
    "  589},\n",
    " 'tenmg_filter75': {545,\n",
    "  549,\n",
    "  550,\n",
    "  551,\n",
    "  565,\n",
    "  566,\n",
    "  578,\n",
    "  579,\n",
    "  580,\n",
    "  581,\n",
    "  582,\n",
    "  586,\n",
    "  587,\n",
    "  588,\n",
    "  589},\n",
    " 'tenmg_topten_nofilter': {545, 550, 551, 565, 566, 578, 580, 581, 582, 589},\n",
    " 'twomg_filter50': {547,\n",
    "  549,\n",
    "  551,\n",
    "  565,\n",
    "  566,\n",
    "  569,\n",
    "  577,\n",
    "  578,\n",
    "  579,\n",
    "  580,\n",
    "  581,\n",
    "  582,\n",
    "  588,\n",
    "  589},\n",
    " 'twomg_filter75': {547,\n",
    "  549,\n",
    "  551,\n",
    "  565,\n",
    "  566,\n",
    "  569,\n",
    "  578,\n",
    "  579,\n",
    "  581,\n",
    "  582,\n",
    "  588,\n",
    "  589},\n",
    " 'twomg_topten_nofilter': {547, 549, 551, 565, 566, 569, 578, 581, 582, 589}}\n"
   ]
  },
  {
   "cell_type": "code",
   "execution_count": null,
   "metadata": {
    "collapsed": false
   },
   "outputs": [],
   "source": [
    "# loop over highbinders and run MCAW analysis \n",
    "\n",
    "dataframefile = \"../results/galectin-3/dataframes_galectin.pkl\"\n",
    "nb_name = 'run_mcaw_analysis'\n",
    "for samplename in results:\n",
    "    nb_kwargs = {'samplename': samplename, 'highbinding_glycans':results[samplename],'dataframefile':dataframefile}\n",
    "    run_notebook(nb_name, nb_suffix='-out_%s' % (samplename), nb_kwargs=nb_kwargs)\n"
   ]
  },
  {
   "cell_type": "code",
   "execution_count": null,
   "metadata": {
    "collapsed": true
   },
   "outputs": [],
   "source": []
  },
  {
   "cell_type": "code",
   "execution_count": null,
   "metadata": {
    "collapsed": true
   },
   "outputs": [],
   "source": []
  }
 ],
 "metadata": {
  "kernelspec": {
   "display_name": "Python 2",
   "language": "python",
   "name": "python2"
  },
  "language_info": {
   "codemirror_mode": {
    "name": "ipython",
    "version": 2
   },
   "file_extension": ".py",
   "mimetype": "text/x-python",
   "name": "python",
   "nbconvert_exporter": "python",
   "pygments_lexer": "ipython2",
   "version": "2.7.11"
  }
 },
 "nbformat": 4,
 "nbformat_minor": 0
}
