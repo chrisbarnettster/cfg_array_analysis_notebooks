{
 "cells": [
  {
   "cell_type": "markdown",
   "metadata": {},
   "source": [
    "# This notebook collates all the data stories\n",
    "\n",
    "Use this notebooks to run through the sequence of events in this analysis.\n",
    "\n",
    "\n",
    "\n"
   ]
  },
  {
   "cell_type": "markdown",
   "metadata": {},
   "source": [
    "## Part 0 - Prep\n",
    "- [Create a dataframe of Array 5.0 glycan images](glycan_images_v5.0.ipynb)"
   ]
  },
  {
   "cell_type": "markdown",
   "metadata": {},
   "source": [
    "## Part 1 - Does this analysis work?\n",
    "Let's compare to the SNA data by Cholleti\n",
    "- [Download the array data from the CFG](download_cfg_for_sna.ipynb)\n",
    "- [Use zscore to find high binders](zscore_highbinders_for_sna.ipynb)  \n",
    "- [Visualise high binders](visualise_highbinders_for_sna.ipynb)\n"
   ]
  },
  {
   "cell_type": "markdown",
   "metadata": {},
   "source": [
    "## Part 2 - analyse Galectin\n",
    "\n",
    "Let's look at the high binders for the Galectin-3 data by Cummings\n",
    "- [Download the array data from the CFG](download_cfg_for_galectin.ipynb)\n",
    "- [Use zscore to find high binders](zscore_highbinders_for_galectin.ipynb)  \n",
    "- [Visualise high binders](visualise_highbinders_for_galectin.ipynb)\n",
    "\n"
   ]
  },
  {
   "cell_type": "code",
   "execution_count": null,
   "metadata": {
    "collapsed": true
   },
   "outputs": [],
   "source": []
  }
 ],
 "metadata": {
  "kernelspec": {
   "display_name": "Python 2",
   "language": "python",
   "name": "python2"
  },
  "language_info": {
   "codemirror_mode": {
    "name": "ipython",
    "version": 2
   },
   "file_extension": ".py",
   "mimetype": "text/x-python",
   "name": "python",
   "nbconvert_exporter": "python",
   "pygments_lexer": "ipython2",
   "version": "2.7.11"
  }
 },
 "nbformat": 4,
 "nbformat_minor": 0
}
